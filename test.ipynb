{
 "cells": [
  {
   "cell_type": "markdown",
   "id": "db6b8f81",
   "metadata": {},
   "source": [
    "# Обрабатываем собранные данные \n",
    "EDA:\n",
    "1) очистим дупликаты\n",
    "2) разабьем вакансии на группы\n",
    "3) "
   ]
  },
  {
   "cell_type": "code",
   "execution_count": 96,
   "id": "6b0bd56b",
   "metadata": {},
   "outputs": [],
   "source": [
    "import os\n",
    "from typing import List\n",
    "from glob import glob\n",
    "from tqdm import tqdm\n",
    "\n",
    "import pandas as pd"
   ]
  },
  {
   "cell_type": "markdown",
   "id": "d95863b1",
   "metadata": {},
   "source": [
    "### Читаем все файлы и избавдяемся от дубликатов"
   ]
  },
  {
   "cell_type": "code",
   "execution_count": 98,
   "id": "49ec8488",
   "metadata": {},
   "outputs": [
    {
     "name": "stderr",
     "output_type": "stream",
     "text": [
      "Download: 100%|██████████| 1344/1344 [00:06<00:00, 223.09it/s]\n"
     ]
    },
    {
     "data": {
      "text/plain": [
       "(41591, 15)"
      ]
     },
     "execution_count": 98,
     "metadata": {},
     "output_type": "execute_result"
    }
   ],
   "source": [
    "paths = glob(\"./dags/data/hh/*\", recursive=True)\n",
    "\n",
    "def read_all_csv_files(paths: List[str]) -> pd.DataFrame:\n",
    "    \"\"\"\n",
    "    Читает все CSV-файлы по переданным путям и объединяет их в один DataFrame.\n",
    "\n",
    "    Args:\n",
    "        paths (List[str]): Список путей к CSV-файлам.\n",
    "\n",
    "    Returns:\n",
    "        pd.DataFrame: Объединённый DataFrame со всех файлов.\n",
    "    \"\"\"\n",
    "\n",
    "    dataframes: List[pd.DataFrame] = []\n",
    "    abs_paths = [os.path.abspath(path) for path in paths if path.endswith(\".csv\")]\n",
    "\n",
    "    if not abs_paths:\n",
    "        raise FileNotFoundError(f\"В директории '{paths}' не найдено CSV-файлов.\")\n",
    "\n",
    "    for path in tqdm(abs_paths, desc='Download'):\n",
    "        try:\n",
    "            df = pd.read_csv(path, sep=';')\n",
    "            df[\"filename\"] = os.path.basename(path)\n",
    "            dataframes.append(df)\n",
    "        except Exception as e:\n",
    "            continue\n",
    "    if not dataframes:\n",
    "        raise ValueError(\"Не удалось прочитать ни один CSV-файл.\")\n",
    "\n",
    "    combined_df = pd.concat(dataframes, ignore_index=True)\n",
    "    return combined_df\n",
    "\n",
    "\n",
    "df = read_all_csv_files(paths)\n",
    "df.shape"
   ]
  },
  {
   "cell_type": "code",
   "execution_count": 99,
   "id": "75fbbdad",
   "metadata": {},
   "outputs": [
    {
     "data": {
      "text/plain": [
       "(5031, 15)"
      ]
     },
     "execution_count": 99,
     "metadata": {},
     "output_type": "execute_result"
    }
   ],
   "source": [
    "df.drop_duplicates('url', inplace=True)\n",
    "df_dup.drop_duplicates(['description', 'key_skills', 'name'], inplace=True)\n",
    "df.shape"
   ]
  },
  {
   "cell_type": "code",
   "execution_count": 100,
   "id": "1e3ba038",
   "metadata": {},
   "outputs": [
    {
     "data": {
      "text/plain": [
       "(5031, 9)"
      ]
     },
     "execution_count": 100,
     "metadata": {},
     "output_type": "execute_result"
    }
   ],
   "source": [
    "df_dup = df.drop(columns=['salary_from',\t'salary_to', 'currency',\t'gross', 'employer_accredited_it', 'filename'])\n",
    "df_dup.shape"
   ]
  },
  {
   "cell_type": "code",
   "execution_count": 101,
   "id": "7e373086",
   "metadata": {},
   "outputs": [
    {
     "data": {
      "text/html": [
       "<div>\n",
       "<style scoped>\n",
       "    .dataframe tbody tr th:only-of-type {\n",
       "        vertical-align: middle;\n",
       "    }\n",
       "\n",
       "    .dataframe tbody tr th {\n",
       "        vertical-align: top;\n",
       "    }\n",
       "\n",
       "    .dataframe thead th {\n",
       "        text-align: right;\n",
       "    }\n",
       "</style>\n",
       "<table border=\"1\" class=\"dataframe\">\n",
       "  <thead>\n",
       "    <tr style=\"text-align: right;\">\n",
       "      <th></th>\n",
       "      <th>vacancy_id</th>\n",
       "      <th>name</th>\n",
       "      <th>area</th>\n",
       "      <th>published_at</th>\n",
       "      <th>experience_id</th>\n",
       "      <th>key_skills</th>\n",
       "      <th>employer_name</th>\n",
       "      <th>description</th>\n",
       "      <th>url</th>\n",
       "    </tr>\n",
       "  </thead>\n",
       "  <tbody>\n",
       "    <tr>\n",
       "      <th>0</th>\n",
       "      <td>125684797</td>\n",
       "      <td>Senior Data Analyst</td>\n",
       "      <td>Кипр</td>\n",
       "      <td>24.10.2025</td>\n",
       "      <td>moreThan6</td>\n",
       "      <td>Python, Clickhouse, A/B тесты, SQL, Apache Air...</td>\n",
       "      <td>Wisebits</td>\n",
       "      <td>Wisebits — международный IT-холдинг с сильной ...</td>\n",
       "      <td>https://hh.ru/vacancy/125684797</td>\n",
       "    </tr>\n",
       "    <tr>\n",
       "      <th>1</th>\n",
       "      <td>126832304</td>\n",
       "      <td>Data Scientist</td>\n",
       "      <td>Израиль</td>\n",
       "      <td>22.10.2025</td>\n",
       "      <td>between3And6</td>\n",
       "      <td>Power BI, Azure Fabric, Data Factory, Synapse ...</td>\n",
       "      <td>Nitka Technologies, Inc.</td>\n",
       "      <td>Nitka Technologies develops software for custo...</td>\n",
       "      <td>https://hh.ru/vacancy/126832304</td>\n",
       "    </tr>\n",
       "    <tr>\n",
       "      <th>2</th>\n",
       "      <td>126884932</td>\n",
       "      <td>Product Analyst</td>\n",
       "      <td>Сербия</td>\n",
       "      <td>23.10.2025</td>\n",
       "      <td>between3And6</td>\n",
       "      <td>SQL, Tableau, Power BI, Анализ данных</td>\n",
       "      <td>Mayflower</td>\n",
       "      <td>Mayflower is a technology company that alters ...</td>\n",
       "      <td>https://hh.ru/vacancy/126884932</td>\n",
       "    </tr>\n",
       "    <tr>\n",
       "      <th>3</th>\n",
       "      <td>126884933</td>\n",
       "      <td>Product Analyst</td>\n",
       "      <td>Кипр</td>\n",
       "      <td>23.10.2025</td>\n",
       "      <td>between3And6</td>\n",
       "      <td>SQL, Tableau, Power BI, Анализ данных</td>\n",
       "      <td>Mayflower</td>\n",
       "      <td>Mayflower is a technology company that alters ...</td>\n",
       "      <td>https://hh.ru/vacancy/126884933</td>\n",
       "    </tr>\n",
       "    <tr>\n",
       "      <th>4</th>\n",
       "      <td>126832308</td>\n",
       "      <td>Data Scientist</td>\n",
       "      <td>Черногория</td>\n",
       "      <td>22.10.2025</td>\n",
       "      <td>between3And6</td>\n",
       "      <td>Power BI, Azure Fabric, Data Factory, Synapse ...</td>\n",
       "      <td>Nitka Technologies, Inc.</td>\n",
       "      <td>Nitka Technologies develops software for custo...</td>\n",
       "      <td>https://hh.ru/vacancy/126832308</td>\n",
       "    </tr>\n",
       "  </tbody>\n",
       "</table>\n",
       "</div>"
      ],
      "text/plain": [
       "   vacancy_id                 name        area published_at experience_id  \\\n",
       "0   125684797  Senior Data Analyst        Кипр   24.10.2025     moreThan6   \n",
       "1   126832304       Data Scientist     Израиль   22.10.2025  between3And6   \n",
       "2   126884932      Product Analyst      Сербия   23.10.2025  between3And6   \n",
       "3   126884933      Product Analyst        Кипр   23.10.2025  between3And6   \n",
       "4   126832308       Data Scientist  Черногория   22.10.2025  between3And6   \n",
       "\n",
       "                                          key_skills  \\\n",
       "0  Python, Clickhouse, A/B тесты, SQL, Apache Air...   \n",
       "1  Power BI, Azure Fabric, Data Factory, Synapse ...   \n",
       "2              SQL, Tableau, Power BI, Анализ данных   \n",
       "3              SQL, Tableau, Power BI, Анализ данных   \n",
       "4  Power BI, Azure Fabric, Data Factory, Synapse ...   \n",
       "\n",
       "              employer_name  \\\n",
       "0                  Wisebits   \n",
       "1  Nitka Technologies, Inc.   \n",
       "2                 Mayflower   \n",
       "3                 Mayflower   \n",
       "4  Nitka Technologies, Inc.   \n",
       "\n",
       "                                         description  \\\n",
       "0  Wisebits — международный IT-холдинг с сильной ...   \n",
       "1  Nitka Technologies develops software for custo...   \n",
       "2  Mayflower is a technology company that alters ...   \n",
       "3  Mayflower is a technology company that alters ...   \n",
       "4  Nitka Technologies develops software for custo...   \n",
       "\n",
       "                               url  \n",
       "0  https://hh.ru/vacancy/125684797  \n",
       "1  https://hh.ru/vacancy/126832304  \n",
       "2  https://hh.ru/vacancy/126884932  \n",
       "3  https://hh.ru/vacancy/126884933  \n",
       "4  https://hh.ru/vacancy/126832308  "
      ]
     },
     "execution_count": 101,
     "metadata": {},
     "output_type": "execute_result"
    }
   ],
   "source": [
    "df_dup.head()"
   ]
  },
  {
   "cell_type": "code",
   "execution_count": 102,
   "id": "775b704f",
   "metadata": {},
   "outputs": [],
   "source": [
    "df_dup.to_csv('./data/without_dup_v1.csv', index=False)"
   ]
  },
  {
   "cell_type": "markdown",
   "id": "266e6b71",
   "metadata": {},
   "source": [
    "### Группировываем вакансии"
   ]
  },
  {
   "cell_type": "code",
   "execution_count": null,
   "id": "1ab7c8d1",
   "metadata": {},
   "outputs": [],
   "source": [
    "df_dup.to_csv('./data/without_dup.csv', index=False)"
   ]
  },
  {
   "cell_type": "code",
   "execution_count": null,
   "id": "dc1fed2a",
   "metadata": {},
   "outputs": [],
   "source": []
  },
  {
   "cell_type": "code",
   "execution_count": null,
   "id": "b62bc7e7",
   "metadata": {},
   "outputs": [],
   "source": [
    "# dvc remote modify minio_remote endpointurl https://5a384345053a.ngrok-free.app\n",
    "dvc remote modify minio_remote access_key_id minioadmin\n",
    "dvc remote modify minio_remote secret_access_key minioadmin\n",
    "dvc remote modify minio_remote use_ssl false\n",
    "\n",
    "\n",
    "\n",
    "# https://58bf996bf8b9.ngrok-free.app"
   ]
  },
  {
   "cell_type": "code",
   "execution_count": null,
   "id": "dcade765",
   "metadata": {},
   "outputs": [],
   "source": []
  },
  {
   "cell_type": "code",
   "execution_count": null,
   "id": "522bc20f",
   "metadata": {},
   "outputs": [],
   "source": []
  },
  {
   "cell_type": "code",
   "execution_count": null,
   "id": "b6a31aef",
   "metadata": {},
   "outputs": [],
   "source": []
  },
  {
   "cell_type": "code",
   "execution_count": null,
   "id": "4b50d474",
   "metadata": {},
   "outputs": [],
   "source": []
  },
  {
   "cell_type": "code",
   "execution_count": null,
   "id": "2970f8d1",
   "metadata": {},
   "outputs": [],
   "source": []
  },
  {
   "cell_type": "code",
   "execution_count": null,
   "id": "e9e618ed",
   "metadata": {},
   "outputs": [],
   "source": []
  },
  {
   "cell_type": "code",
   "execution_count": null,
   "id": "80f4fd3e",
   "metadata": {},
   "outputs": [],
   "source": []
  },
  {
   "cell_type": "code",
   "execution_count": null,
   "id": "0cc96ec4",
   "metadata": {},
   "outputs": [],
   "source": []
  },
  {
   "cell_type": "code",
   "execution_count": null,
   "id": "ff6bc634",
   "metadata": {},
   "outputs": [],
   "source": []
  },
  {
   "cell_type": "code",
   "execution_count": null,
   "id": "5e97308e",
   "metadata": {},
   "outputs": [],
   "source": []
  },
  {
   "cell_type": "code",
   "execution_count": null,
   "id": "3be877c6",
   "metadata": {},
   "outputs": [],
   "source": []
  },
  {
   "cell_type": "code",
   "execution_count": null,
   "id": "b8a4bb20",
   "metadata": {},
   "outputs": [],
   "source": []
  },
  {
   "cell_type": "code",
   "execution_count": null,
   "id": "c44bc03f",
   "metadata": {},
   "outputs": [],
   "source": []
  },
  {
   "cell_type": "code",
   "execution_count": null,
   "id": "0d33d0e1",
   "metadata": {},
   "outputs": [],
   "source": []
  },
  {
   "cell_type": "code",
   "execution_count": null,
   "id": "edec5f92",
   "metadata": {},
   "outputs": [],
   "source": []
  },
  {
   "cell_type": "code",
   "execution_count": null,
   "id": "514de002",
   "metadata": {},
   "outputs": [],
   "source": []
  }
 ],
 "metadata": {
  "kernelspec": {
   "display_name": ".venv",
   "language": "python",
   "name": "python3"
  },
  "language_info": {
   "codemirror_mode": {
    "name": "ipython",
    "version": 3
   },
   "file_extension": ".py",
   "mimetype": "text/x-python",
   "name": "python",
   "nbconvert_exporter": "python",
   "pygments_lexer": "ipython3",
   "version": "3.10.6"
  }
 },
 "nbformat": 4,
 "nbformat_minor": 5
}
